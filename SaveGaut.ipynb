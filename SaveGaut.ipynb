{
  "nbformat": 4,
  "nbformat_minor": 0,
  "metadata": {
    "colab": {
      "provenance": [],
      "include_colab_link": true
    },
    "kernelspec": {
      "name": "python3",
      "display_name": "Python 3"
    },
    "language_info": {
      "name": "python"
    }
  },
  "cells": [
    {
      "cell_type": "markdown",
      "metadata": {
        "id": "view-in-github",
        "colab_type": "text"
      },
      "source": [
        "<a href=\"https://colab.research.google.com/github/DarisFlame/Pub_Pro_Coll/blob/main/SaveGaut.ipynb\" target=\"_parent\"><img src=\"https://colab.research.google.com/assets/colab-badge.svg\" alt=\"Open In Colab\"/></a>"
      ]
    },
    {
      "cell_type": "code",
      "execution_count": null,
      "metadata": {
        "colab": {
          "base_uri": "https://localhost:8080/"
        },
        "id": "qMYuAkt0NfJl",
        "outputId": "507a8f7b-ca8a-4c01-9307-51e6c7f3a5f2"
      },
      "outputs": [
        {
          "output_type": "stream",
          "name": "stdout",
          "text": [
            "Feature names: ['sepal length (cm)', 'sepal width (cm)', 'petal length (cm)', 'petal width (cm)']\n",
            "Target names: ['setosa' 'versicolor' 'virginica']\n",
            "First 5 samples:\n",
            "Sample 1: [5.1 3.5 1.4 0.2] (Class: 0, Species: setosa)\n",
            "Sample 2: [4.9 3.  1.4 0.2] (Class: 0, Species: setosa)\n",
            "Sample 3: [4.7 3.2 1.3 0.2] (Class: 0, Species: setosa)\n",
            "Sample 4: [4.6 3.1 1.5 0.2] (Class: 0, Species: setosa)\n",
            "Sample 5: [5.  3.6 1.4 0.2] (Class: 0, Species: setosa)\n"
          ]
        }
      ],
      "source": [
        "from sklearn.datasets import load_iris\n",
        "# test\n",
        "\n",
        "# Load the Iris dataset\n",
        "iris = load_iris()\n",
        "\n",
        "# Access the features and target variable\n",
        "X = iris.data  # Features (sepal length, sepal width, petal length, petal width)\n",
        "y = iris.target  # Target variable (species: 0 for setosa, 1 for versicolor, 2 for virginica)\n",
        "\n",
        "# Print the feature names and target names\n",
        "print(\"Feature names:\", iris.feature_names)\n",
        "print(\"Target names:\", iris.target_names)\n",
        "\n",
        "# Print the first few samples in the dataset\n",
        "print(\"First 5 samples:\")\n",
        "for i in range(5):\n",
        "    print(f\"Sample {i+1}: {X[i]} (Class: {y[i]}, Species: {iris.target_names[y[i]]})\")\n",
        "\n"
      ]
    },
    {
      "cell_type": "code",
      "source": [
        "from sklearn import datasets\n",
        "\n",
        "iris = datasets.load_iris()"
      ],
      "metadata": {
        "id": "AIZrSnmOTEHe"
      },
      "execution_count": 8,
      "outputs": []
    }
  ]
}